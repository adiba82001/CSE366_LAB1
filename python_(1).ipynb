{
  "nbformat": 4,
  "nbformat_minor": 0,
  "metadata": {
    "colab": {
      "provenance": [],
      "include_colab_link": true
    },
    "kernelspec": {
      "name": "python3",
      "display_name": "Python 3"
    },
    "language_info": {
      "name": "python"
    }
  },
  "cells": [
    {
      "cell_type": "markdown",
      "metadata": {
        "id": "view-in-github",
        "colab_type": "text"
      },
      "source": [
        "<a href=\"https://colab.research.google.com/github/adiba82001/CSE366_LAB1/blob/main/python_(1).ipynb\" target=\"_parent\"><img src=\"https://colab.research.google.com/assets/colab-badge.svg\" alt=\"Open In Colab\"/></a>"
      ]
    },
    {
      "cell_type": "markdown",
      "source": [
        "# **Python**\n",
        "**List of Topics**\n",
        "\n",
        "---\n",
        "\n",
        "\n",
        "1. Python Variable\n",
        "2. Python Type Conversion\n",
        "3. Python Input Output\n",
        "4. Arithmetic Operators in Python\n",
        "5. Comparison Operators\n",
        "6. Logical Operators\n",
        "7. Python if…else Statement\n",
        "8. Python if…elif…else Statement\n",
        "9. Python Nested if Statements\n",
        "10. Python for Loop\n",
        "11. Python Nested for Loop\n",
        "12. Python Mathematics\n",
        "13. Python List\n",
        "14. Python Tuple\n",
        "15. List Tuple Conversion\n",
        "16. Python String\n",
        "17. Python Set\n",
        "18. Python Dictionary\n",
        "19. Python Function"
      ],
      "metadata": {
        "id": "oOQ2sQH1NZVR"
      }
    },
    {
      "cell_type": "markdown",
      "source": [
        "**Python Variables**"
      ],
      "metadata": {
        "id": "gAnAcJwKNk_c"
      }
    },
    {
      "cell_type": "code",
      "execution_count": 1,
      "metadata": {
        "id": "rPYAII42L_Qe",
        "colab": {
          "base_uri": "https://localhost:8080/"
        },
        "outputId": "f2059710-bf9a-4602-f4ab-a0dfaa718091"
      },
      "outputs": [
        {
          "output_type": "stream",
          "name": "stdout",
          "text": [
            "Name: John\n",
            "Age: 30\n",
            "Height: 6.1\n",
            "Is Student: False\n"
          ]
        }
      ],
      "source": [
        "# Variable Declaration and Assignment\n",
        "name = \"John\"\n",
        "age = 30\n",
        "height = 6.1\n",
        "is_student = False\n",
        "\n",
        "# Outputting variable values\n",
        "print(\"Name:\", name)\n",
        "print(\"Age:\", age)\n",
        "print(\"Height:\", height)\n",
        "print(\"Is Student:\", is_student)"
      ]
    },
    {
      "cell_type": "code",
      "source": [
        "# Variable Reassignment\n",
        "name = \"Alice\"\n",
        "age = 25\n",
        "\n",
        "# Updated Output\n",
        "print(\"Updated Name:\", name)\n",
        "print(\"\\nUpdated Age:\", age)"
      ],
      "metadata": {
        "id": "KvSSTcTtSQ3t",
        "colab": {
          "base_uri": "https://localhost:8080/"
        },
        "outputId": "0f898587-aa2b-482a-b6e6-65372c0fdd7d"
      },
      "execution_count": 2,
      "outputs": [
        {
          "output_type": "stream",
          "name": "stdout",
          "text": [
            "Updated Name: Alice\n",
            "\n",
            "Updated Age: 25\n"
          ]
        }
      ]
    },
    {
      "cell_type": "code",
      "source": [
        "# Variable Types\n",
        "print(\"Variable Types:\")\n",
        "print(\"Type of name:\", type(name))\n",
        "print(\"Type of age:\", type(age))\n",
        "print(\"Type of height:\", type(height))\n",
        "print(\"Type of is_student:\", type(is_student))"
      ],
      "metadata": {
        "id": "PHC9wBYTNTgW",
        "colab": {
          "base_uri": "https://localhost:8080/"
        },
        "outputId": "dbe6551d-d4a1-4cb6-deb5-fc8fb996d13e"
      },
      "execution_count": 3,
      "outputs": [
        {
          "output_type": "stream",
          "name": "stdout",
          "text": [
            "Variable Types:\n",
            "Type of name: <class 'str'>\n",
            "Type of age: <class 'int'>\n",
            "Type of height: <class 'float'>\n",
            "Type of is_student: <class 'bool'>\n"
          ]
        }
      ]
    },
    {
      "cell_type": "code",
      "source": [
        "# Variable Operations\n",
        "a = 10\n",
        "b = 5\n",
        "sum_result = a + b\n",
        "difference_result = a - b\n",
        "product_result = a * b\n",
        "division_result = a / b\n",
        "\n",
        "# Outputting Results\n",
        "print(\"Operations:\")\n",
        "print(\"Sum:\", sum_result)\n",
        "print(\"Difference:\", difference_result)\n",
        "print(\"Product:\", product_result)\n",
        "print(\"Division:\", division_result)"
      ],
      "metadata": {
        "id": "6qoQwazqNV2x",
        "colab": {
          "base_uri": "https://localhost:8080/"
        },
        "outputId": "b88fefa9-6cf8-48d2-d8bd-f76ed1d25ada"
      },
      "execution_count": 4,
      "outputs": [
        {
          "output_type": "stream",
          "name": "stdout",
          "text": [
            "Operations:\n",
            "Sum: 15\n",
            "Difference: 5\n",
            "Product: 50\n",
            "Division: 2.0\n"
          ]
        }
      ]
    },
    {
      "cell_type": "markdown",
      "source": [
        "**Python Type Conversion**"
      ],
      "metadata": {
        "id": "N9jvAaa7Ns1V"
      }
    },
    {
      "cell_type": "code",
      "source": [
        "num_string = '12'\n",
        "num_integer = 23\n",
        "\n",
        "print(\"Data type of num_string before Type Casting:\",type(num_string))\n",
        "\n",
        "num_string = int(num_string)\n",
        "\n",
        "print(\"Data type of num_string after Type Casting:\",type(num_string))\n",
        "\n",
        "num_sum = num_integer + num_string\n",
        "\n",
        "print(\"Sum:\",num_sum)\n",
        "print(\"Data type of num_sum:\",type(num_sum))"
      ],
      "metadata": {
        "id": "-o9PzSRyN28D",
        "colab": {
          "base_uri": "https://localhost:8080/"
        },
        "outputId": "03ea3cbe-e32f-43bd-9ffb-7e0afcc16de2"
      },
      "execution_count": 5,
      "outputs": [
        {
          "output_type": "stream",
          "name": "stdout",
          "text": [
            "Data type of num_string before Type Casting: <class 'str'>\n",
            "Data type of num_string after Type Casting: <class 'int'>\n",
            "Sum: 35\n",
            "Data type of num_sum: <class 'int'>\n"
          ]
        }
      ]
    },
    {
      "cell_type": "code",
      "source": [
        "num1 = int(2.3)\n",
        "print(num1)\n",
        "\n",
        "num2 = int(-2.8)\n",
        "print(num2)\n",
        "\n",
        "num3 = float(5)\n",
        "print(num3)\n",
        "\n",
        "num4 = complex('3+5j')\n",
        "print(num4)"
      ],
      "metadata": {
        "id": "YF_-cmPCV4Ux",
        "colab": {
          "base_uri": "https://localhost:8080/"
        },
        "outputId": "49d4686e-682c-43da-8d15-22e6d4de64cb"
      },
      "execution_count": 6,
      "outputs": [
        {
          "output_type": "stream",
          "name": "stdout",
          "text": [
            "2\n",
            "-2\n",
            "5.0\n",
            "(3+5j)\n"
          ]
        }
      ]
    },
    {
      "cell_type": "markdown",
      "source": [
        "**Python Input and Output**"
      ],
      "metadata": {
        "id": "dHEWwl9QN86r"
      }
    },
    {
      "cell_type": "code",
      "source": [
        "# Input\n",
        "name = input(\"Enter your name: \")\n",
        "age = int(input(\"Enter your age: \"))\n",
        "\n",
        "year_of_birth = 2024 - age\n",
        "\n",
        "# Output\n",
        "print(\"Hello, \" + name + \"!\")\n",
        "print(\"You are\", age, \"years old.\")\n",
        "print(\"You were born in the year\", year_of_birth)"
      ],
      "metadata": {
        "id": "TYaFRCgzOeXb",
        "colab": {
          "base_uri": "https://localhost:8080/"
        },
        "outputId": "1e55827f-25b2-41b8-c42a-ea7289798c3d"
      },
      "execution_count": 7,
      "outputs": [
        {
          "output_type": "stream",
          "name": "stdout",
          "text": [
            "Enter your name: Adiba\n",
            "Enter your age: 22\n",
            "Hello, Adiba!\n",
            "You are 22 years old.\n",
            "You were born in the year 2002\n"
          ]
        }
      ]
    },
    {
      "cell_type": "markdown",
      "source": [
        "**Arithmetic Operators in Python**"
      ],
      "metadata": {
        "id": "CtK35lFiOmqQ"
      }
    },
    {
      "cell_type": "code",
      "source": [
        "a = 7\n",
        "b = 2\n",
        "\n",
        "# addition\n",
        "print ('Sum: ', a + b)\n",
        "\n",
        "# subtraction\n",
        "print ('Subtraction: ', a - b)\n",
        "\n",
        "# multiplication\n",
        "print ('Multiplication: ', a * b)\n",
        "\n",
        "# division\n",
        "print ('Division: ', a / b)\n",
        "\n",
        "# floor division\n",
        "print ('Floor Division: ', a // b)\n",
        "\n",
        "# modulo\n",
        "print ('Modulo: ', a % b)\n",
        "\n",
        "# a to the power b\n",
        "print ('Power: ', a ** b)\n",
        "\n",
        "# assignment operator\n",
        "a += b      # a = a + b\n",
        "print (a)"
      ],
      "metadata": {
        "id": "TDnyIgi1PBX6",
        "colab": {
          "base_uri": "https://localhost:8080/"
        },
        "outputId": "6e0c16b6-9ca0-43c6-d5ef-2d90659f4d2e"
      },
      "execution_count": 8,
      "outputs": [
        {
          "output_type": "stream",
          "name": "stdout",
          "text": [
            "Sum:  9\n",
            "Subtraction:  5\n",
            "Multiplication:  14\n",
            "Division:  3.5\n",
            "Floor Division:  3\n",
            "Modulo:  1\n",
            "Power:  49\n",
            "9\n"
          ]
        }
      ]
    },
    {
      "cell_type": "markdown",
      "source": [
        "**Comparison Operators**"
      ],
      "metadata": {
        "id": "6Mn6bkr3PF7B"
      }
    },
    {
      "cell_type": "code",
      "source": [
        "a = 5\n",
        "b = 2\n",
        "\n",
        "# equal to operator\n",
        "print('(a == b)--> ', a == b)\n",
        "\n",
        "# not equal to operator\n",
        "print('(a != b)--> ', a != b)\n",
        "\n",
        "# greater than operator\n",
        "print('(a > b)--> ', a > b)\n",
        "\n",
        "# less than operator\n",
        "print('(a < b)--> ', a < b)\n",
        "\n",
        "# greater than or equal to operator\n",
        "print('(a >= b)--> ', a >= b)\n",
        "\n",
        "# less than or equal to operator\n",
        "print('(a <= b)--> ', a <= b)"
      ],
      "metadata": {
        "id": "aPIglsPjPFc2",
        "colab": {
          "base_uri": "https://localhost:8080/"
        },
        "outputId": "3de6d6e5-febd-4992-869b-63fde945715c"
      },
      "execution_count": 9,
      "outputs": [
        {
          "output_type": "stream",
          "name": "stdout",
          "text": [
            "(a == b)-->  False\n",
            "(a != b)-->  True\n",
            "(a > b)-->  True\n",
            "(a < b)-->  False\n",
            "(a >= b)-->  True\n",
            "(a <= b)-->  False\n"
          ]
        }
      ]
    },
    {
      "cell_type": "markdown",
      "source": [
        "**Logical Operators**"
      ],
      "metadata": {
        "id": "X4nLSdEFP4vB"
      }
    },
    {
      "cell_type": "code",
      "source": [
        "# logical AND\n",
        "print(True and True)\n",
        "print(True and False)\n",
        "\n",
        "# logical OR\n",
        "print(True or False)\n",
        "\n",
        "# logical NOT\n",
        "print(not True)"
      ],
      "metadata": {
        "id": "srxdLpQJQScw",
        "colab": {
          "base_uri": "https://localhost:8080/"
        },
        "outputId": "95d8b01b-be32-41a7-8a98-fa5b8bf5e56a"
      },
      "execution_count": 10,
      "outputs": [
        {
          "output_type": "stream",
          "name": "stdout",
          "text": [
            "True\n",
            "False\n",
            "True\n",
            "False\n"
          ]
        }
      ]
    },
    {
      "cell_type": "markdown",
      "source": [
        "**Python if…else Statement**"
      ],
      "metadata": {
        "id": "N2xP0onVQduW"
      }
    },
    {
      "cell_type": "code",
      "source": [
        "number = 10\n",
        "\n",
        "if number > 0:\n",
        "    print('Positive number')\n",
        "\n",
        "else:\n",
        "    print('Negative number')\n",
        "\n",
        "print('This statement always executes')"
      ],
      "metadata": {
        "id": "Jn39DpzJRHgy",
        "colab": {
          "base_uri": "https://localhost:8080/"
        },
        "outputId": "16108988-3e86-4bd3-c297-325c6ff13a60"
      },
      "execution_count": 11,
      "outputs": [
        {
          "output_type": "stream",
          "name": "stdout",
          "text": [
            "Positive number\n",
            "This statement always executes\n"
          ]
        }
      ]
    },
    {
      "cell_type": "markdown",
      "source": [
        "**Python if…elif…else Statement**"
      ],
      "metadata": {
        "id": "7F99GZReRKLQ"
      }
    },
    {
      "cell_type": "code",
      "source": [
        "number = 0\n",
        "\n",
        "if number > 0:\n",
        "    print('Positive number')\n",
        "\n",
        "elif number <0:\n",
        "    print('Negative number')\n",
        "\n",
        "else:\n",
        "    print('Zero')\n",
        "\n",
        "print('This statement is always executed')"
      ],
      "metadata": {
        "id": "GHqE0kqqRNep",
        "colab": {
          "base_uri": "https://localhost:8080/"
        },
        "outputId": "5649bedb-7cf0-47da-d908-b0bb5f0316fe"
      },
      "execution_count": 12,
      "outputs": [
        {
          "output_type": "stream",
          "name": "stdout",
          "text": [
            "Zero\n",
            "This statement is always executed\n"
          ]
        }
      ]
    },
    {
      "cell_type": "markdown",
      "source": [
        "**Python Nested if Statements**"
      ],
      "metadata": {
        "id": "nENeaAzORR0H"
      }
    },
    {
      "cell_type": "code",
      "source": [
        "number = 5\n",
        "\n",
        "# outer if statement\n",
        "if number >= 0:\n",
        "    # inner if statement\n",
        "    if number == 0:\n",
        "      print('Number is 0')\n",
        "\n",
        "    # inner else statement\n",
        "    else:\n",
        "        print('Number is positive')\n",
        "\n",
        "# outer else statement\n",
        "else:\n",
        "    print('Number is negative')"
      ],
      "metadata": {
        "id": "TSQUcrdlRUnq"
      },
      "execution_count": null,
      "outputs": []
    },
    {
      "cell_type": "markdown",
      "source": [
        "**Python for Loop**"
      ],
      "metadata": {
        "id": "V58XZIxjRYv_"
      }
    },
    {
      "cell_type": "code",
      "source": [
        "# iterate from i = 0 to i = 3\n",
        "for i in range(4):\n",
        "    print(i)"
      ],
      "metadata": {
        "id": "gB6UsaO4RxZ5",
        "colab": {
          "base_uri": "https://localhost:8080/"
        },
        "outputId": "056d60bd-f136-4a27-fb07-8d2f6b4e60df"
      },
      "execution_count": 13,
      "outputs": [
        {
          "output_type": "stream",
          "name": "stdout",
          "text": [
            "0\n",
            "1\n",
            "2\n",
            "3\n"
          ]
        }
      ]
    },
    {
      "cell_type": "code",
      "source": [
        "i = 1\n",
        "end = 6\n",
        "inc = 2\n",
        "for i in range(i, end, inc):\n",
        "  print(i)"
      ],
      "metadata": {
        "colab": {
          "base_uri": "https://localhost:8080/"
        },
        "id": "zA-7esdlUD7o",
        "outputId": "a2549ed5-a9a1-45e1-be0d-658967eb49ae"
      },
      "execution_count": 16,
      "outputs": [
        {
          "output_type": "stream",
          "name": "stdout",
          "text": [
            "1\n",
            "3\n",
            "5\n"
          ]
        }
      ]
    },
    {
      "cell_type": "code",
      "source": [
        "# Define a list of numbers\n",
        "numbers = [1, 2, 3, 4, 5]\n",
        "\n",
        "for num in numbers:\n",
        "    # Print each number multiplied by 2\n",
        "    print(num * 2)"
      ],
      "metadata": {
        "id": "JAgUXeCQR4B8",
        "colab": {
          "base_uri": "https://localhost:8080/"
        },
        "outputId": "5d30cfd0-05ca-43b0-9ce5-95e605d3f841"
      },
      "execution_count": 14,
      "outputs": [
        {
          "output_type": "stream",
          "name": "stdout",
          "text": [
            "2\n",
            "4\n",
            "6\n",
            "8\n",
            "10\n"
          ]
        }
      ]
    },
    {
      "cell_type": "code",
      "source": [
        "languages = ['Swift', 'Python', 'Go']\n",
        "\n",
        "for i in languages:\n",
        "    print(i)"
      ],
      "metadata": {
        "id": "OdGX7BuzTKLI",
        "colab": {
          "base_uri": "https://localhost:8080/"
        },
        "outputId": "b6d4985c-bffd-425a-ae5d-f35db115ce2d"
      },
      "execution_count": 17,
      "outputs": [
        {
          "output_type": "stream",
          "name": "stdout",
          "text": [
            "Swift\n",
            "Python\n",
            "Go\n"
          ]
        }
      ]
    },
    {
      "cell_type": "code",
      "source": [
        "for i in range(5):\n",
        "    if i == 3:\n",
        "        break\n",
        "    print(i)"
      ],
      "metadata": {
        "id": "8BnNHT5oTOjM",
        "colab": {
          "base_uri": "https://localhost:8080/"
        },
        "outputId": "bb71dda1-c731-408f-e71a-0212bb557047"
      },
      "execution_count": 18,
      "outputs": [
        {
          "output_type": "stream",
          "name": "stdout",
          "text": [
            "0\n",
            "1\n",
            "2\n"
          ]
        }
      ]
    },
    {
      "cell_type": "code",
      "source": [
        "for i in range(5):\n",
        "    if i == 3:\n",
        "        continue\n",
        "    print(i)"
      ],
      "metadata": {
        "id": "W79cqfbWTWgu",
        "colab": {
          "base_uri": "https://localhost:8080/"
        },
        "outputId": "08ceb934-1785-4a0a-cd16-a867a0696498"
      },
      "execution_count": 19,
      "outputs": [
        {
          "output_type": "stream",
          "name": "stdout",
          "text": [
            "0\n",
            "1\n",
            "2\n",
            "4\n"
          ]
        }
      ]
    },
    {
      "cell_type": "markdown",
      "source": [
        "**Python Nested for Loop**"
      ],
      "metadata": {
        "id": "N20AEfyKeuCv"
      }
    },
    {
      "cell_type": "code",
      "source": [
        "# Define a list of fruits\n",
        "fruits = [\"apple\", \"banana\", \"cherry\"]\n",
        "\n",
        "# Define a list of colors\n",
        "colors = [\"red\", \"yellow\", \"black\"]\n",
        "\n",
        "# Nested loop to combine each fruit with each color\n",
        "for fruit in fruits:\n",
        "    for color in colors:\n",
        "        print(fruit, color)"
      ],
      "metadata": {
        "id": "5sflwW1HetkA",
        "colab": {
          "base_uri": "https://localhost:8080/"
        },
        "outputId": "0b0d669f-2b8c-4d02-a417-6c60d3f0e7c3"
      },
      "execution_count": 20,
      "outputs": [
        {
          "output_type": "stream",
          "name": "stdout",
          "text": [
            "apple red\n",
            "apple yellow\n",
            "apple black\n",
            "banana red\n",
            "banana yellow\n",
            "banana black\n",
            "cherry red\n",
            "cherry yellow\n",
            "cherry black\n"
          ]
        }
      ]
    },
    {
      "cell_type": "markdown",
      "source": [
        "**Python Mathematics**"
      ],
      "metadata": {
        "id": "LUWemH1YTbN3"
      }
    },
    {
      "cell_type": "code",
      "source": [
        "import math\n",
        "\n",
        "# Trigonometric functions\n",
        "print(\"\\nTrigonometric Functions:\")\n",
        "print(\"Sine of 30 degrees:\", math.sin(math.radians(30)))\n",
        "print(\"Cosine of 30 degrees:\", math.cos(math.radians(30)))\n",
        "print(\"Tangent of 30 degrees:\", math.tan(math.radians(30)))\n",
        "\n",
        "# Logarithmic and exponential functions\n",
        "print(\"\\nLogarithmic and Exponential Functions:\")\n",
        "print(\"Natural Logarithm (base e) of 2:\", math.log(2))\n",
        "print(\"Logarithm base 10 of 100:\", math.log10(100))\n",
        "print(\"Exponential of 2:\", math.exp(2))\n",
        "\n",
        "# Constants\n",
        "print(\"\\nConstants:\")\n",
        "print(\"Value of pi:\", math.pi)\n",
        "print(\"Value of e:\", math.e)"
      ],
      "metadata": {
        "id": "tFA2xoIDWQTM",
        "colab": {
          "base_uri": "https://localhost:8080/"
        },
        "outputId": "4bb2a739-ecf4-4dad-e469-e0ea0d4d7a9b"
      },
      "execution_count": 21,
      "outputs": [
        {
          "output_type": "stream",
          "name": "stdout",
          "text": [
            "\n",
            "Trigonometric Functions:\n",
            "Sine of 30 degrees: 0.49999999999999994\n",
            "Cosine of 30 degrees: 0.8660254037844387\n",
            "Tangent of 30 degrees: 0.5773502691896257\n",
            "\n",
            "Logarithmic and Exponential Functions:\n",
            "Natural Logarithm (base e) of 2: 0.6931471805599453\n",
            "Logarithm base 10 of 100: 2.0\n",
            "Exponential of 2: 7.38905609893065\n",
            "\n",
            "Constants:\n",
            "Value of pi: 3.141592653589793\n",
            "Value of e: 2.718281828459045\n"
          ]
        }
      ]
    },
    {
      "cell_type": "markdown",
      "source": [
        "**Python List**"
      ],
      "metadata": {
        "id": "EEpiF5F1WSew"
      }
    },
    {
      "cell_type": "code",
      "source": [
        "colors = ['Red', 'Black', 'Green']\n",
        "\n",
        "# Print the original list\n",
        "print(\"Original list of colors:\", colors)"
      ],
      "metadata": {
        "id": "pxdTFYPFXQQi",
        "colab": {
          "base_uri": "https://localhost:8080/"
        },
        "outputId": "946b5c64-4590-499d-fea4-2772bd2c8b2c"
      },
      "execution_count": 22,
      "outputs": [
        {
          "output_type": "stream",
          "name": "stdout",
          "text": [
            "Original list of colors: ['Red', 'Black', 'Green']\n"
          ]
        }
      ]
    },
    {
      "cell_type": "code",
      "source": [
        "# Accessing elements in the list\n",
        "print(\"First color:\", colors[0])\n",
        "print(\"Last color:\", colors[2])\n",
        "print(\"Last color:\", colors[-1])\n",
        "print(\"Sliced colors:\", colors[1:])"
      ],
      "metadata": {
        "id": "B2hue9VCXVZl",
        "colab": {
          "base_uri": "https://localhost:8080/"
        },
        "outputId": "6077ab4c-9264-4dde-9e4e-cdf49be2d637"
      },
      "execution_count": 33,
      "outputs": [
        {
          "output_type": "stream",
          "name": "stdout",
          "text": [
            "First color: Blue\n",
            "Last color: Green\n",
            "Last color: Green\n",
            "Sliced colors: ['Black', 'Green']\n"
          ]
        }
      ]
    },
    {
      "cell_type": "code",
      "source": [
        "colors[0] = 'Blue'\n",
        "print(\"Modified list after changing the first color to Blue:\", colors)"
      ],
      "metadata": {
        "id": "_z5FV9gHXcB7",
        "colab": {
          "base_uri": "https://localhost:8080/"
        },
        "outputId": "8de320fd-3d35-4f58-b37e-66e1bdd83439"
      },
      "execution_count": 31,
      "outputs": [
        {
          "output_type": "stream",
          "name": "stdout",
          "text": [
            "Modified list after changing the first color to Blue: ['Blue', 'Black', 'Green']\n"
          ]
        }
      ]
    },
    {
      "cell_type": "code",
      "source": [
        "colors.append('Yellow')\n",
        "print(\"List after appending Yellow:\", colors)"
      ],
      "metadata": {
        "id": "iNECTVWAXytH",
        "colab": {
          "base_uri": "https://localhost:8080/"
        },
        "outputId": "2f6fe700-3e98-4c6d-eb54-cc16ddacc9df"
      },
      "execution_count": 34,
      "outputs": [
        {
          "output_type": "stream",
          "name": "stdout",
          "text": [
            "List after appending Yellow: ['Blue', 'Black', 'Green', 'Yellow']\n"
          ]
        }
      ]
    },
    {
      "cell_type": "code",
      "source": [
        "colors.insert(1, 'White')\n",
        "print(\"List after inserting White at index 1:\", colors)"
      ],
      "metadata": {
        "id": "RxS6zqfQX18W",
        "colab": {
          "base_uri": "https://localhost:8080/"
        },
        "outputId": "5b5b7bae-96c6-452f-ebc1-20b12e31526d"
      },
      "execution_count": 35,
      "outputs": [
        {
          "output_type": "stream",
          "name": "stdout",
          "text": [
            "List after inserting White at index 1: ['Blue', 'White', 'Black', 'Green', 'Yellow']\n"
          ]
        }
      ]
    },
    {
      "cell_type": "code",
      "source": [
        "colors.remove('Black')\n",
        "print(\"List after removing Black:\", colors)"
      ],
      "metadata": {
        "id": "nWLSIu2wX5za",
        "colab": {
          "base_uri": "https://localhost:8080/"
        },
        "outputId": "1c1d1d4c-92cb-40b6-b2ca-939cc22807a4"
      },
      "execution_count": 36,
      "outputs": [
        {
          "output_type": "stream",
          "name": "stdout",
          "text": [
            "List after removing Black: ['Blue', 'White', 'Green', 'Yellow']\n"
          ]
        }
      ]
    },
    {
      "cell_type": "code",
      "source": [
        "colors.remove(colors[0])\n",
        "print(\"List after removing Black:\", colors)"
      ],
      "metadata": {
        "colab": {
          "base_uri": "https://localhost:8080/"
        },
        "id": "lPhplrCmXZXJ",
        "outputId": "0fd8046e-2f44-400d-d162-87935f736fc4"
      },
      "execution_count": 37,
      "outputs": [
        {
          "output_type": "stream",
          "name": "stdout",
          "text": [
            "List after removing Black: ['White', 'Green', 'Yellow']\n"
          ]
        }
      ]
    },
    {
      "cell_type": "code",
      "source": [
        "# List operations\n",
        "print(\"Number of colors in the list:\", len(colors))\n",
        "print(\"Reversed list of colors:\", list(reversed(colors)))"
      ],
      "metadata": {
        "id": "d_vK3Y0BX9mt",
        "colab": {
          "base_uri": "https://localhost:8080/"
        },
        "outputId": "19d1f034-9fbc-4f39-d5fb-0da19daba5fc"
      },
      "execution_count": 38,
      "outputs": [
        {
          "output_type": "stream",
          "name": "stdout",
          "text": [
            "Number of colors in the list: 3\n",
            "Reversed list of colors: ['Yellow', 'Green', 'White']\n"
          ]
        }
      ]
    },
    {
      "cell_type": "code",
      "source": [
        "my_list = [2, 1, 4, 5, 3]\n",
        "print(\"Sorted list of colors:\", sorted(my_list))"
      ],
      "metadata": {
        "id": "Av7JT-OjYGYP",
        "colab": {
          "base_uri": "https://localhost:8080/"
        },
        "outputId": "3e9c4f8c-f29b-450f-fb22-2fe934e967ae"
      },
      "execution_count": 39,
      "outputs": [
        {
          "output_type": "stream",
          "name": "stdout",
          "text": [
            "Sorted list of colors: [1, 2, 3, 4, 5]\n"
          ]
        }
      ]
    },
    {
      "cell_type": "code",
      "source": [
        "# Checking if an element is in the list\n",
        "print(\"Is 'Red' present in the list?\", 'Red' in colors)"
      ],
      "metadata": {
        "id": "2CiPe_U6YFdX",
        "colab": {
          "base_uri": "https://localhost:8080/"
        },
        "outputId": "213635c7-881c-4f52-9dd9-f5e8aacee46b"
      },
      "execution_count": 42,
      "outputs": [
        {
          "output_type": "stream",
          "name": "stdout",
          "text": [
            "Is 'Red' present in the list? False\n"
          ]
        }
      ]
    },
    {
      "cell_type": "code",
      "source": [
        "# Iterating over the list\n",
        "print(\"Iterating over the list of colors:\")\n",
        "for color in colors:\n",
        "    print(color)"
      ],
      "metadata": {
        "id": "fixFU_rHYXlq",
        "colab": {
          "base_uri": "https://localhost:8080/"
        },
        "outputId": "0bb2460d-2fd3-4cb8-9fe6-77ac1506fcfe"
      },
      "execution_count": 43,
      "outputs": [
        {
          "output_type": "stream",
          "name": "stdout",
          "text": [
            "Iterating over the list of colors:\n",
            "White\n",
            "Green\n",
            "Yellow\n"
          ]
        }
      ]
    },
    {
      "cell_type": "markdown",
      "source": [
        "**Python Tuple**"
      ],
      "metadata": {
        "id": "FHo1hYzBY8vb"
      }
    },
    {
      "cell_type": "code",
      "source": [
        "# Define a tuple\n",
        "my_tuple = (1, 2, 3, 'a', 'b', 'c')\n",
        "\n",
        "# Accessing elements of a tuple\n",
        "print(\"First element:\", my_tuple[0])\n",
        "print(\"Last element:\", my_tuple[-1])\n",
        "print(\"Slicing tuple:\", my_tuple[2:5])"
      ],
      "metadata": {
        "id": "WLgQB5GFY18s",
        "colab": {
          "base_uri": "https://localhost:8080/"
        },
        "outputId": "5acafc80-13c7-4f71-e549-205671b0abcc"
      },
      "execution_count": 44,
      "outputs": [
        {
          "output_type": "stream",
          "name": "stdout",
          "text": [
            "First element: 1\n",
            "Last element: c\n",
            "Slicing tuple: (3, 'a', 'b')\n"
          ]
        }
      ]
    },
    {
      "cell_type": "code",
      "source": [
        "# Length of a tuple\n",
        "print(\"Length of tuple:\", len(my_tuple))"
      ],
      "metadata": {
        "id": "QRQA3gaiZD2v",
        "colab": {
          "base_uri": "https://localhost:8080/"
        },
        "outputId": "da7fcabd-28ea-478d-89d1-3d89b81f4953"
      },
      "execution_count": 45,
      "outputs": [
        {
          "output_type": "stream",
          "name": "stdout",
          "text": [
            "Length of tuple: 6\n"
          ]
        }
      ]
    },
    {
      "cell_type": "code",
      "source": [
        "# Check if an item exists in a tuple\n",
        "print(\"Is 'a' in the tuple?\", 'a' in my_tuple)"
      ],
      "metadata": {
        "id": "_JK0UIM7ZJMO",
        "colab": {
          "base_uri": "https://localhost:8080/"
        },
        "outputId": "36e7d048-78e4-432f-c1aa-0aaa71041b6f"
      },
      "execution_count": 46,
      "outputs": [
        {
          "output_type": "stream",
          "name": "stdout",
          "text": [
            "Is 'a' in the tuple? True\n"
          ]
        }
      ]
    },
    {
      "cell_type": "code",
      "source": [
        "# Iterate through a tuple\n",
        "print(\"Iterating through the tuple:\")\n",
        "for item in my_tuple:\n",
        "    print(item)"
      ],
      "metadata": {
        "id": "jNJA65W3ZM-V",
        "colab": {
          "base_uri": "https://localhost:8080/"
        },
        "outputId": "27e0a402-5cc5-4f96-d075-4aea962bc1e9"
      },
      "execution_count": 47,
      "outputs": [
        {
          "output_type": "stream",
          "name": "stdout",
          "text": [
            "Iterating through the tuple:\n",
            "1\n",
            "2\n",
            "3\n",
            "a\n",
            "b\n",
            "c\n"
          ]
        }
      ]
    },
    {
      "cell_type": "markdown",
      "source": [
        "**List Tuple Conversion**"
      ],
      "metadata": {
        "id": "G9T-16kfZSPS"
      }
    },
    {
      "cell_type": "code",
      "source": [
        "fruits = ('apple','banana','orange')"
      ],
      "metadata": {
        "id": "BnRU957TZg4_"
      },
      "execution_count": 48,
      "outputs": []
    },
    {
      "cell_type": "code",
      "source": [
        "# Convert a tuple to a list\n",
        "tuple_as_list = list(fruits)\n",
        "print(\"Tuple converted to list:\", tuple_as_list)"
      ],
      "metadata": {
        "id": "XEYi2wx3ZRph",
        "colab": {
          "base_uri": "https://localhost:8080/"
        },
        "outputId": "8c0dd52c-fd53-45b4-c216-8927d1cd3607"
      },
      "execution_count": 49,
      "outputs": [
        {
          "output_type": "stream",
          "name": "stdout",
          "text": [
            "Tuple converted to list: ['apple', 'banana', 'orange']\n"
          ]
        }
      ]
    },
    {
      "cell_type": "code",
      "source": [
        "# Convert a list to a tuple\n",
        "list_as_tuple = tuple(tuple_as_list)\n",
        "print(\"List converted to tuple:\", list_as_tuple)"
      ],
      "metadata": {
        "id": "wCxXiz1bZetx",
        "colab": {
          "base_uri": "https://localhost:8080/"
        },
        "outputId": "47d4e97c-4ac6-43c9-cd85-b6045412b569"
      },
      "execution_count": 50,
      "outputs": [
        {
          "output_type": "stream",
          "name": "stdout",
          "text": [
            "List converted to tuple: ('apple', 'banana', 'orange')\n"
          ]
        }
      ]
    },
    {
      "cell_type": "markdown",
      "source": [
        "**Python String**"
      ],
      "metadata": {
        "id": "j215hbO5Z3Dm"
      }
    },
    {
      "cell_type": "code",
      "source": [
        "# join two string\n",
        "greet = \"Hello \"\n",
        "name = \"World\"\n",
        "\n",
        "# using + operator\n",
        "result = greet + name\n",
        "print(result)"
      ],
      "metadata": {
        "id": "qC4M3aEcZ5mu",
        "colab": {
          "base_uri": "https://localhost:8080/"
        },
        "outputId": "24e95cc6-0758-4e58-9a42-acf5ed6bcbb5"
      },
      "execution_count": 51,
      "outputs": [
        {
          "output_type": "stream",
          "name": "stdout",
          "text": [
            "Hello World\n"
          ]
        }
      ]
    },
    {
      "cell_type": "code",
      "source": [
        "greet = 'Hello'\n",
        "\n",
        "# iterating through greet string\n",
        "for letter in greet:\n",
        "    print(letter)"
      ],
      "metadata": {
        "id": "RHBnHrZvaDom",
        "colab": {
          "base_uri": "https://localhost:8080/"
        },
        "outputId": "a497df56-3bb1-4d69-9755-d4ace3865389"
      },
      "execution_count": 52,
      "outputs": [
        {
          "output_type": "stream",
          "name": "stdout",
          "text": [
            "H\n",
            "e\n",
            "l\n",
            "l\n",
            "o\n"
          ]
        }
      ]
    },
    {
      "cell_type": "code",
      "source": [
        "greet = 'Hello'\n",
        "\n",
        "# count length of greet string\n",
        "print(len(greet))"
      ],
      "metadata": {
        "id": "gdNALPF7aIuG",
        "colab": {
          "base_uri": "https://localhost:8080/"
        },
        "outputId": "eeb74a54-3629-4c60-fdd3-c7ba27294b5f"
      },
      "execution_count": 53,
      "outputs": [
        {
          "output_type": "stream",
          "name": "stdout",
          "text": [
            "5\n"
          ]
        }
      ]
    },
    {
      "cell_type": "markdown",
      "source": [
        "**Python Set**"
      ],
      "metadata": {
        "id": "2mLAa59PaMlz"
      }
    },
    {
      "cell_type": "code",
      "source": [
        "# Creating a set\n",
        "toys = {'car', 'plane', 'animal'}\n",
        "print(\"Initial set:\", toys)"
      ],
      "metadata": {
        "id": "crHBs9lmaiSN",
        "colab": {
          "base_uri": "https://localhost:8080/"
        },
        "outputId": "eac103c5-3a7b-4a81-fddf-5c8564557455"
      },
      "execution_count": 55,
      "outputs": [
        {
          "output_type": "stream",
          "name": "stdout",
          "text": [
            "Initial set: {'car', 'animal', 'plane'}\n"
          ]
        }
      ]
    },
    {
      "cell_type": "code",
      "source": [
        "# Adding elements to a set\n",
        "toys.add('doll')\n",
        "print(\"After adding 'doll':\", toys)"
      ],
      "metadata": {
        "id": "WOzYTHTHalRg",
        "colab": {
          "base_uri": "https://localhost:8080/"
        },
        "outputId": "dff97e2b-0f12-46cb-88ff-9538ca50ede9"
      },
      "execution_count": 56,
      "outputs": [
        {
          "output_type": "stream",
          "name": "stdout",
          "text": [
            "After adding 'doll': {'car', 'doll', 'animal', 'plane'}\n"
          ]
        }
      ]
    },
    {
      "cell_type": "code",
      "source": [
        "# Removing elements from a set\n",
        "toys.remove('animal')\n",
        "print(\"After removing 'plane':\", toys)"
      ],
      "metadata": {
        "id": "EMRYEqgbaoGb",
        "colab": {
          "base_uri": "https://localhost:8080/"
        },
        "outputId": "fd9bb41c-6fce-4765-ca9b-c168c642154f"
      },
      "execution_count": 57,
      "outputs": [
        {
          "output_type": "stream",
          "name": "stdout",
          "text": [
            "After removing 'plane': {'car', 'doll', 'plane'}\n"
          ]
        }
      ]
    },
    {
      "cell_type": "code",
      "source": [
        "# Checking membership in a set\n",
        "print(\"Is 'car' in the set?\", 'car' in toys)\n",
        "print(\"Is 'ball' in the set?\", 'ball' in toys)"
      ],
      "metadata": {
        "id": "TMmaBwazbOUy",
        "colab": {
          "base_uri": "https://localhost:8080/"
        },
        "outputId": "43b974a3-9339-49fc-ed96-30f92e640dfa"
      },
      "execution_count": 58,
      "outputs": [
        {
          "output_type": "stream",
          "name": "stdout",
          "text": [
            "Is 'car' in the set? True\n",
            "Is 'ball' in the set? False\n"
          ]
        }
      ]
    },
    {
      "cell_type": "code",
      "source": [
        "# Set operations: union, intersection, difference\n",
        "other_toys = {'bat', 'train', 'doll'}\n",
        "print(\"Union:\", toys.union(other_toys))\n",
        "print(\"Intersection:\", toys.intersection(other_toys))\n",
        "print(\"Difference:\", toys.difference(other_toys))"
      ],
      "metadata": {
        "id": "Qoy6kva5bTI9",
        "colab": {
          "base_uri": "https://localhost:8080/"
        },
        "outputId": "dbbbdceb-f502-4a00-cf75-3161b03b7bb3"
      },
      "execution_count": 59,
      "outputs": [
        {
          "output_type": "stream",
          "name": "stdout",
          "text": [
            "Union: {'car', 'doll', 'plane', 'train', 'bat'}\n",
            "Intersection: {'doll'}\n",
            "Difference: {'car', 'plane'}\n"
          ]
        }
      ]
    },
    {
      "cell_type": "code",
      "source": [
        "# Length of a set\n",
        "print(\"Length of the set:\", len(toys))"
      ],
      "metadata": {
        "id": "hRXSpcdOblu1",
        "colab": {
          "base_uri": "https://localhost:8080/"
        },
        "outputId": "0e890e55-ceee-40c5-ad3f-aab078bb61a4"
      },
      "execution_count": 60,
      "outputs": [
        {
          "output_type": "stream",
          "name": "stdout",
          "text": [
            "Length of the set: 3\n"
          ]
        }
      ]
    },
    {
      "cell_type": "code",
      "source": [
        "# Clearing a set\n",
        "toys.clear()\n",
        "print(\"Cleared set:\", toys)"
      ],
      "metadata": {
        "id": "M5sMV73Obp26",
        "colab": {
          "base_uri": "https://localhost:8080/"
        },
        "outputId": "1f56e84c-52ae-4b26-b9df-da4d04cd0a0a"
      },
      "execution_count": 61,
      "outputs": [
        {
          "output_type": "stream",
          "name": "stdout",
          "text": [
            "Cleared set: set()\n"
          ]
        }
      ]
    },
    {
      "cell_type": "markdown",
      "source": [
        "**Python Dictionary**"
      ],
      "metadata": {
        "id": "sF6nWDCxcIxx"
      }
    },
    {
      "cell_type": "code",
      "source": [
        "# Creating an empty dictionary\n",
        "my_dict = {}\n",
        "\n",
        "# Adding key-value pairs to the dictionary\n",
        "my_dict['name'] = 'John'\n",
        "my_dict['age'] = 30\n",
        "my_dict['gender'] = 'male'"
      ],
      "metadata": {
        "id": "LlPMPQcOcIcS"
      },
      "execution_count": 62,
      "outputs": []
    },
    {
      "cell_type": "code",
      "source": [
        "# Printing the dictionary\n",
        "print(\"Dictionary:\", my_dict)"
      ],
      "metadata": {
        "id": "ybljrLfpcO6d",
        "colab": {
          "base_uri": "https://localhost:8080/"
        },
        "outputId": "93cd5800-fb9c-498d-f94e-5b504e28c534"
      },
      "execution_count": 63,
      "outputs": [
        {
          "output_type": "stream",
          "name": "stdout",
          "text": [
            "Dictionary: {'name': 'John', 'age': 30, 'gender': 'male'}\n"
          ]
        }
      ]
    },
    {
      "cell_type": "code",
      "source": [
        "# Accessing value using key\n",
        "print(\"Value for key 'name':\", my_dict['name'])"
      ],
      "metadata": {
        "id": "DBkbPHstcTjL",
        "colab": {
          "base_uri": "https://localhost:8080/"
        },
        "outputId": "3a2490a0-19f5-4c1d-bef6-4eeac774d4b4"
      },
      "execution_count": 64,
      "outputs": [
        {
          "output_type": "stream",
          "name": "stdout",
          "text": [
            "Value for key 'name': John\n"
          ]
        }
      ]
    },
    {
      "cell_type": "code",
      "source": [
        "# Checking if a key exists\n",
        "if 'age' in my_dict:\n",
        "    print(\"'age' is present in the dictionary.\")\n",
        "else:\n",
        "    print(\"'age' is not present in the dictionary.\")"
      ],
      "metadata": {
        "id": "K0UTKor0cWSC",
        "colab": {
          "base_uri": "https://localhost:8080/"
        },
        "outputId": "63562c17-eef5-4013-ff75-fc103652f537"
      },
      "execution_count": 65,
      "outputs": [
        {
          "output_type": "stream",
          "name": "stdout",
          "text": [
            "'age' is present in the dictionary.\n"
          ]
        }
      ]
    },
    {
      "cell_type": "code",
      "source": [
        "# Removing a key-value pair\n",
        "removed_value = my_dict.pop('age')\n",
        "print(\"Removed value:\", removed_value)\n",
        "print(\"Dictionary after removing 'age':\", my_dict)"
      ],
      "metadata": {
        "id": "Vfz-92oCcZBx",
        "colab": {
          "base_uri": "https://localhost:8080/"
        },
        "outputId": "bd256490-3673-454e-b197-fb5ea073eedb"
      },
      "execution_count": 66,
      "outputs": [
        {
          "output_type": "stream",
          "name": "stdout",
          "text": [
            "Removed value: 30\n",
            "Dictionary after removing 'age': {'name': 'John', 'gender': 'male'}\n"
          ]
        }
      ]
    },
    {
      "cell_type": "code",
      "source": [
        "# Iterating through keys and values\n",
        "print(\"Keys:\")\n",
        "for key in my_dict:\n",
        "    print(key)"
      ],
      "metadata": {
        "id": "c8JxjB2oceM9",
        "colab": {
          "base_uri": "https://localhost:8080/"
        },
        "outputId": "25417a70-7255-4629-bf56-e96de04bb984"
      },
      "execution_count": 67,
      "outputs": [
        {
          "output_type": "stream",
          "name": "stdout",
          "text": [
            "Keys:\n",
            "name\n",
            "gender\n"
          ]
        }
      ]
    },
    {
      "cell_type": "code",
      "source": [
        "print(\"Values:\")\n",
        "for value in my_dict.values():\n",
        "    print(value)"
      ],
      "metadata": {
        "id": "_pCDb_5-ciJZ",
        "colab": {
          "base_uri": "https://localhost:8080/"
        },
        "outputId": "b85a72dc-e2d6-4978-f2a8-6ef62793eb8b"
      },
      "execution_count": 68,
      "outputs": [
        {
          "output_type": "stream",
          "name": "stdout",
          "text": [
            "Values:\n",
            "John\n",
            "male\n"
          ]
        }
      ]
    },
    {
      "cell_type": "code",
      "source": [
        "# Checking the length of the dictionary\n",
        "print(\"Length of dictionary:\", len(my_dict))"
      ],
      "metadata": {
        "id": "uEcBI7FKckiR",
        "colab": {
          "base_uri": "https://localhost:8080/"
        },
        "outputId": "ea277072-a19c-4424-f169-f95603313cd1"
      },
      "execution_count": 69,
      "outputs": [
        {
          "output_type": "stream",
          "name": "stdout",
          "text": [
            "Length of dictionary: 2\n"
          ]
        }
      ]
    },
    {
      "cell_type": "code",
      "source": [
        "# Clearing the dictionary\n",
        "my_dict.clear()\n",
        "print(\"Dictionary after clearing:\", my_dict)"
      ],
      "metadata": {
        "id": "CSnDS1eOcl29",
        "colab": {
          "base_uri": "https://localhost:8080/"
        },
        "outputId": "81570d65-46d1-4908-f8d5-8203b43ebd1d"
      },
      "execution_count": 70,
      "outputs": [
        {
          "output_type": "stream",
          "name": "stdout",
          "text": [
            "Dictionary after clearing: {}\n"
          ]
        }
      ]
    },
    {
      "cell_type": "markdown",
      "source": [
        "**Python Function**"
      ],
      "metadata": {
        "id": "WiwsqCvouF2C"
      }
    },
    {
      "cell_type": "code",
      "source": [
        "# function with two arguments\n",
        "def add_numbers(num1, num2):\n",
        "    sum = num1 + num2\n",
        "    print(\"Sum: \", sum)\n",
        "\n",
        "# function call\n",
        "add_numbers(5, 4)"
      ],
      "metadata": {
        "id": "Gw9DoWFluFjo",
        "colab": {
          "base_uri": "https://localhost:8080/"
        },
        "outputId": "db179757-5635-4a6f-fa9e-777d0dc5cb6c"
      },
      "execution_count": 71,
      "outputs": [
        {
          "output_type": "stream",
          "name": "stdout",
          "text": [
            "Sum:  9\n"
          ]
        }
      ]
    },
    {
      "cell_type": "code",
      "source": [
        "def find_square(num):\n",
        "    result = num * num\n",
        "    return result\n",
        "\n",
        "square = find_square(3)\n",
        "print('Square:', square)"
      ],
      "metadata": {
        "id": "lUd4UP6NuLrl",
        "colab": {
          "base_uri": "https://localhost:8080/"
        },
        "outputId": "9fb0ca74-b98e-4ebc-ce08-40c0a9668785"
      },
      "execution_count": 72,
      "outputs": [
        {
          "output_type": "stream",
          "name": "stdout",
          "text": [
            "Square: 9\n"
          ]
        }
      ]
    }
  ]
}